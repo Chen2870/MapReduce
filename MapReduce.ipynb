{
 "cells": [
  {
   "cell_type": "code",
   "execution_count": 387,
   "metadata": {},
   "outputs": [],
   "source": [
    "from functools import reduce\n",
    "import numpy as np"
   ]
  },
  {
   "cell_type": "code",
   "execution_count": 388,
   "metadata": {},
   "outputs": [],
   "source": [
    "import operator\n",
    "import pandas as pd"
   ]
  },
  {
   "cell_type": "code",
   "execution_count": 389,
   "metadata": {},
   "outputs": [],
   "source": [
    "book_by_page = [[\"Mary\", \"Lamb\", \"Had\", \"A\"],[\"A\",\"Little\", \"Lamb\"],[\"Joseph\",\"Had\",\"A\",\"Baby\"]]"
   ]
  },
  {
   "cell_type": "code",
   "execution_count": 397,
   "metadata": {},
   "outputs": [
    {
     "data": {
      "text/plain": [
       "[(0, ['Mary', 'Lamb', 'Had', 'A']),\n",
       " (1, ['A', 'Little', 'Lamb']),\n",
       " (2, ['Joseph', 'Had', 'A', 'Baby'])]"
      ]
     },
     "execution_count": 397,
     "metadata": {},
     "output_type": "execute_result"
    }
   ],
   "source": [
    "list(enumerate(book_by_page))"
   ]
  },
  {
   "cell_type": "code",
   "execution_count": 390,
   "metadata": {},
   "outputs": [],
   "source": [
    "map_list = list(map(lambda x: list({i:[(x[0]+1)]} for i in x[1]) , enumerate(book_by_page)))"
   ]
  },
  {
   "cell_type": "code",
   "execution_count": 391,
   "metadata": {},
   "outputs": [],
   "source": [
    "#map_list = list(map(lambda x: {i:[(x[0]+1)] for i in x[1]} , enumerate(book_by_page)))"
   ]
  },
  {
   "cell_type": "code",
   "execution_count": 392,
   "metadata": {},
   "outputs": [],
   "source": [
    "flat_map_list = reduce(operator.concat, map_list)"
   ]
  },
  {
   "cell_type": "code",
   "execution_count": 393,
   "metadata": {},
   "outputs": [
    {
     "data": {
      "text/plain": [
       "[{'Mary': [1]},\n",
       " {'Lamb': [1]},\n",
       " {'Had': [1]},\n",
       " {'A': [1]},\n",
       " {'A': [2]},\n",
       " {'Little': [2]},\n",
       " {'Lamb': [2]},\n",
       " {'Joseph': [3]},\n",
       " {'Had': [3]},\n",
       " {'A': [3]},\n",
       " {'Baby': [3]}]"
      ]
     },
     "execution_count": 393,
     "metadata": {},
     "output_type": "execute_result"
    }
   ],
   "source": [
    "flat_map_list"
   ]
  },
  {
   "cell_type": "code",
   "execution_count": 394,
   "metadata": {},
   "outputs": [],
   "source": [
    "def merge_dict(x,y):\n",
    "    if list(y.keys())[0] in list(x.keys()):\n",
    "        x[list(y.keys())[0]].append(list(y.values())[0][0])\n",
    "    else:\n",
    "        x.update(y)\n",
    "    return x"
   ]
  },
  {
   "cell_type": "code",
   "execution_count": 395,
   "metadata": {},
   "outputs": [
    {
     "data": {
      "text/plain": [
       "{'Mary': [1],\n",
       " 'Lamb': [1, 2],\n",
       " 'Had': [1, 3],\n",
       " 'A': [1, 2, 3],\n",
       " 'Little': [2],\n",
       " 'Joseph': [3],\n",
       " 'Baby': [3]}"
      ]
     },
     "execution_count": 395,
     "metadata": {},
     "output_type": "execute_result"
    }
   ],
   "source": [
    "reduce(merge_dict,flat_map_list)"
   ]
  }
 ],
 "metadata": {
  "kernelspec": {
   "display_name": "Python 3",
   "language": "python",
   "name": "python3"
  },
  "language_info": {
   "codemirror_mode": {
    "name": "ipython",
    "version": 3
   },
   "file_extension": ".py",
   "mimetype": "text/x-python",
   "name": "python",
   "nbconvert_exporter": "python",
   "pygments_lexer": "ipython3",
   "version": "3.6.5"
  }
 },
 "nbformat": 4,
 "nbformat_minor": 2
}
